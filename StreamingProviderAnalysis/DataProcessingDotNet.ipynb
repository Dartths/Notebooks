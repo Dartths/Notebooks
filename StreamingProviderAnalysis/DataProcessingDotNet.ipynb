{
 "cells": [
  {
   "cell_type": "code",
   "execution_count": null,
   "metadata": {
    "dotnet_interactive": {
     "language": "csharp"
    }
   },
   "outputs": [
    {
     "data": {
      "text/html": [
       "<div><div><strong>Restore sources</strong><ul><li><span>https://api.nuget.org/v3/index.json</span></li></ul></div><div></div><div><strong>Installed Packages</strong><ul><li><span>CsvHelper, 27.2.0</span></li><li><span>Deedle, 2.5.0</span></li><li><span>FSharp.Core, 5.0.0</span></li><li><span>FSharp.Data, 4.2.5</span></li><li><span>Microsoft.Data.Analysis, 0.19.0</span></li><li><span>Plotly.NET, 2.0.0-preview.8</span></li><li><span>Plotly.NET.Interactive, 2.0.0-preview.8</span></li></ul></div></div>"
      ]
     },
     "metadata": {},
     "output_type": "display_data"
    }
   ],
   "source": [
    "#i \"nuget:https://api.nuget.org/v3/index.json\"\n",
    "#r \"nuget: Microsoft.Data.Analysis, 0.19.0\"\n",
    "#r \"nuget: Plotly.NET, 2.0.0-preview.8\"\n",
    "#r \"nuget: Plotly.NET.Interactive, 2.0.0-preview.8\"\n",
    "#r \"nuget: Deedle\"\n",
    "#r \"nuget: FSharp.Data\"\n",
    "#r \"nuget: FSharp.Core, 5.0.0\"\n",
    "#r \"nuget: CsvHelper\""
   ]
  },
  {
   "cell_type": "code",
   "execution_count": null,
   "metadata": {
    "dotnet_interactive": {
     "language": "csharp"
    }
   },
   "outputs": [],
   "source": [
    "using Microsoft.Data.Analysis;\n",
    "using System.Linq;\n",
    "using Microsoft.AspNetCore.Html;\n",
    "using System.IO;\n",
    "using Deedle;\n",
    "using System;\n",
    "using Plotly.NET;\n",
    "using Plotly.NET.LayoutObjects;\n",
    "using Microsoft.FSharp.Core;\n",
    "using System.Text.Json;"
   ]
  },
  {
   "cell_type": "code",
   "execution_count": null,
   "metadata": {
    "dotnet_interactive": {
     "language": "csharp"
    }
   },
   "outputs": [],
   "source": [
    "public const string BasePath =\"C:\\\\DCUGoogleDrive\\\\DataVisualisationAssignmentData\\\\\";\n",
    "public static DataFrame ReadCSVToDataFrame(string filePath, int guessRows = 10){\n",
    "    DataFrame df;\n",
    "    using (FileStream stream = File.OpenRead(filePath)){\n",
    "        df = DataFrame.LoadCsv(stream, numberOfRowsToRead:-1, guessRows:guessRows );\n",
    "    }\n",
    "return df;\n",
    "}"
   ]
  },
  {
   "cell_type": "code",
   "execution_count": null,
   "metadata": {
    "dotnet_interactive": {
     "language": "csharp"
    }
   },
   "outputs": [],
   "source": [
    "var fullFrame = ReadCSVToDataFrame($\"{BasePath}DataVisualisationScrapedFinal.csv\");"
   ]
  },
  {
   "cell_type": "code",
   "execution_count": null,
   "metadata": {
    "dotnet_interactive": {
     "language": "csharp"
    }
   },
   "outputs": [
    {
     "data": {
      "text/html": [
       "<div class=\"dni-plaintext\">25847</div>"
      ]
     },
     "metadata": {},
     "output_type": "display_data"
    }
   ],
   "source": [
    "fullFrame.Rows.Count()"
   ]
  },
  {
   "cell_type": "code",
   "execution_count": null,
   "metadata": {
    "dotnet_interactive": {
     "language": "csharp"
    }
   },
   "outputs": [],
   "source": [
    "fullFrame.Columns.Remove(\"Unnamed: 0\");\n",
    "fullFrame.Columns.Remove(\"Unnamed: 0.1\");\n",
    "fullFrame.Columns.Remove(\"Unnamed: 0.1.1\");\n",
    "fullFrame.Columns.Remove(\"Unnamed: 0.1.1.1\");\n",
    "fullFrame.Columns.Remove(\"Unnamed: 0.1.1.1.1\");\n",
    "fullFrame.Columns.Remove(\"Unnamed: 0.1.1.1.1.1\");\n",
    "fullFrame.Columns.Remove(\"Unnamed: 0.1.1.1.1.1.1\");\n",
    "fullFrame"
   ]
  },
  {
   "cell_type": "code",
   "execution_count": null,
   "metadata": {
    "dotnet_interactive": {
     "language": "csharp"
    }
   },
   "outputs": [],
   "source": [
    "public static void PrintNullRate(DataFrame frame){\n",
    "    Console.WriteLine(frame.Info());\n",
    "    foreach(var col in frame.Columns){\n",
    "        decimal noOfNulls;\n",
    "        if(col.DataType == typeof(string))\n",
    "    noOfNulls = col.OfType<string>().Count(_ => string.IsNullOrEmpty(_));\n",
    "    else \n",
    "    noOfNulls = col.NullCount;\n",
    "    \n",
    "        decimal null_rate = (decimal)(noOfNulls / frame.Rows.Count) * 100.00m; \n",
    "        Console.WriteLine(string.Format(\"{0}'s null rate :{1}%\", col.Name , null_rate));\n",
    "    }\n",
    "}"
   ]
  },
  {
   "cell_type": "code",
   "execution_count": null,
   "metadata": {
    "dotnet_interactive": {
     "language": "csharp"
    }
   },
   "outputs": [
    {
     "name": "stdout",
     "output_type": "stream",
     "text": [
      "All\r\n",
      "Info                                    source              title               type                director            cast                production_countriesdate_added          release_year        rating              duration            genres              description         audience            \r\n",
      "DataType            System.Single       System.String       System.String       System.String       System.String       System.String       System.String       System.DateTime     System.Single       System.String       System.String       System.String       System.String       System.String       \r\n",
      "Length (excluding null values)25847               25847               25847               25847               25847               25847               25847               25505               25847               25847               25847               25847               25847               25847               \r\n",
      "\r\n",
      "'s null rate :0.00%\r\n",
      "source's null rate :0.00%\r\n",
      "title's null rate :0.00%\r\n",
      "type's null rate :0.00%\r\n",
      "director's null rate :35.454791658606414670948272530%\r\n",
      "cast's null rate :22.842109335706271520872828570%\r\n",
      "production_countries's null rate :54.246140751344450032885828140%\r\n",
      "date_added's null rate :1.3231709676171315820017797000%\r\n",
      "release_year's null rate :0.00%\r\n",
      "rating's null rate :54.803265369288505435833945910%\r\n",
      "duration's null rate :5.1340581111927883313343908400%\r\n",
      "genres's null rate :0.00%\r\n",
      "description's null rate :0.0193446047897241459356985300%\r\n",
      "audience's null rate :0.4139745425000967230239486200%\r\n"
     ]
    }
   ],
   "source": [
    "Console.WriteLine(\"All\");\n",
    "PrintNullRate(fullFrame);"
   ]
  },
  {
   "cell_type": "code",
   "execution_count": null,
   "metadata": {
    "dotnet_interactive": {
     "language": "csharp"
    }
   },
   "outputs": [
    {
     "name": "stdout",
     "output_type": "stream",
     "text": [
      "Total Number of Records: 25847\r\n",
      "Netflix Records: 6054\r\n",
      "Amazon Records: 10489\r\n",
      "Disney Records: 1457\r\n",
      "HBO Records: 4740\r\n",
      "Hulu Records: 3107\r\n"
     ]
    }
   ],
   "source": [
    "Console.WriteLine($\"Total Number of Records: {fullFrame.Rows.Count()}\");\n",
    "Console.WriteLine($\"Netflix Records: {fullFrame.Filter(fullFrame[\"source\"].ElementwiseEquals(\"netflix\")).Rows.Count()}\");\n",
    "Console.WriteLine($\"Amazon Records: {fullFrame.Filter(fullFrame[\"source\"].ElementwiseEquals(\"amazon-prime-video\")).Rows.Count()}\");\n",
    "Console.WriteLine($\"Disney Records: {fullFrame.Filter(fullFrame[\"source\"].ElementwiseEquals(\"disney-plus\")).Rows.Count()}\");\n",
    "Console.WriteLine($\"HBO Records: {fullFrame.Filter(fullFrame[\"source\"].ElementwiseEquals(\"hbo-max\")).Rows.Count()}\");\n",
    "Console.WriteLine($\"Hulu Records: {fullFrame.Filter(fullFrame[\"source\"].ElementwiseEquals(\"hulu\")).Rows.Count()}\");"
   ]
  },
  {
   "cell_type": "markdown",
   "metadata": {},
   "source": [
    "## About the data\n",
    "\n",
    "Netflix and Disney's data is in good nick, it doesn't require much work, \n",
    "Hulu is missing a lot of data around the Cast, Director and Country.\n",
    "And Amazon is missing alot of data for when it was added.\n",
    "\n",
    "Amazon won't be usable in year on year growth at this rate."
   ]
  },
  {
   "cell_type": "code",
   "execution_count": null,
   "metadata": {
    "dotnet_interactive": {
     "language": "csharp"
    }
   },
   "outputs": [],
   "source": [
    "public class Row : ICloneable \n",
    "{\n",
    "    public Row(){}\n",
    "    public Row(string source, DataFrameRow _){\n",
    "        Source = source;\n",
    "        Id = _[0].ToString();\n",
    "        Type = _[3].ToString();\n",
    "            Title = _[2].ToString();\n",
    "            Director = _[4].ToString();\n",
    "            Cast = _[5].ToString();\n",
    "            Country = _[6].ToString();\n",
    "            DateAdded = DateTime.Parse(_[7].ToString());\n",
    "            ReleaseYear = int.Parse(_[8].ToString());\t\n",
    "            Rating = _[9].ToString();\n",
    "            Duration = _[10];\n",
    "            Genre = _[11].ToString();\n",
    "            Description = _[12].ToString();\n",
    "            Audience = _[13].ToString();\n",
    "    }\n",
    "public string Source {get; set;}\n",
    "public string Id {get; set;}\n",
    "public string Type {get; set;}\n",
    "public string Title {get; set;}\n",
    "public string Director {get; set;}\n",
    "public string Cast {get; set;}\n",
    "public string Country {get; set;}\n",
    "public DateTime DateAdded {get; set;}\n",
    "public int? ReleaseYear {get; set;}\n",
    "public string Rating {get; set;}\n",
    "public object Duration  {get; set;}\n",
    "public string Genre {get; set;}\n",
    "public string Description {get; set;}\n",
    "public string Audience {get; set;}\n",
    "\n",
    "public object Clone()\n",
    "{\n",
    "    return this.MemberwiseClone();\n",
    "}\n",
    "}"
   ]
  },
  {
   "cell_type": "code",
   "execution_count": null,
   "metadata": {
    "dotnet_interactive": {
     "language": "csharp"
    }
   },
   "outputs": [],
   "source": [
    "public static string ToTitle(this string input){\n",
    "    switch(input) {\n",
    "        case \"netflix\": \n",
    "        return \"Netflix\"; \n",
    "        case \"amazon-prime-video\":\n",
    "        return \"Amazon\";\n",
    "        case \"disney-plus\":\n",
    "        return \"Disney Plus\";\n",
    "        case \"hulu\":\n",
    "        return \"Hulu\";\n",
    "        case \"hbo-max\":\n",
    "        return \"HBO\";\n",
    "        default:\n",
    "        return \"Unknown\";\n",
    "    }\n",
    "}"
   ]
  },
  {
   "cell_type": "markdown",
   "metadata": {},
   "source": [
    "## Dropping Stuff\n",
    "\n",
    "Right off the bat I'm going to drop out the missing rows for date added and rating. Its a small amount so its not going to make a diff"
   ]
  },
  {
   "cell_type": "code",
   "execution_count": null,
   "metadata": {
    "dotnet_interactive": {
     "language": "csharp"
    }
   },
   "outputs": [
    {
     "data": {
      "text/html": [
       "<table><thead><tr><th><i>index</i></th><th>Source</th><th>Id</th><th>Type</th><th>Title</th><th>Director</th><th>Cast</th><th>Country</th><th>DateAdded</th><th>ReleaseYear</th><th>Rating</th><th>Duration</th><th>Genre</th><th>Description</th><th>Audience</th></tr></thead><tbody><tr><td>0</td><td>netflix</td><td>0</td><td>movie</td><td>Kannathil Muthamittal</td><td>Mani Ratnam</td><td>Madhavan, Simran, P.S. Keerthana, Prakash Raj, Nandita Das, Delhi Kumar, J.D. Chakravarthi</td><td>India</td><td><span>2021-11-17 00:00:00Z</span></td><td><div class=\"dni-plaintext\">2002</div></td><td>8.4/10</td><td>130 min</td><td>Dramas, International Movies</td><td>In this powerful tale about abandonment and reunion, a 9-year-old&#39;s blissful world collides with reality when she learns she was adopted as an infant.</td><td>TV-14</td></tr><tr><td>1</td><td>netflix</td><td>1</td><td>movie</td><td>Mokalik (Mechanic)</td><td>Kunle Afolayan</td><td>Tooni Afolayan, Ayo Ogunshina, Dayo Akinpelu, Simi Ogunleye, Femi Adebayo, Lateef Adedimeji, Damilola Ogunsi, Rasaq Olayiwola, Ayo Adesanya, Wale Akorede, Toyosi Benjamin, Hamzat Sherifdeen, Samuel Olasehinde</td><td>Nigeria</td><td><span>2021-11-17 00:00:00Z</span></td><td><div class=\"dni-plaintext\">2019</div></td><td>6.4/10</td><td>100 min</td><td>Dramas, International Movies</td><td>A young boy&#39;s life shifts when he&#39;s sent to work at a mechanic&#39;s shop far from his suburban home until an opportunity forces him to make a tough choice.</td><td>TV-14</td></tr><tr><td>2</td><td>netflix</td><td>2</td><td>movie</td><td>My Dad&#39;s Christmas Date</td><td>Mick Davis</td><td>Jeremy Piven, Olivia Mai Barrett, Hadar Cats, Joely Richardson, Megan Brown Martinez, Felix Butterwick</td><td>United Kingdom</td><td><span>2021-11-17 00:00:00Z</span></td><td><div class=\"dni-plaintext\">2020</div></td><td>5.5/10</td><td>91 min</td><td>Comedies, Dramas</td><td>A savvy 16-year-old attempts to play matchmaker among the mistletoe when she secretly sets up online dates for her widowed dad during the holidays.</td><td>TV-MA</td></tr><tr><td>3</td><td>netflix</td><td>3</td><td>movie</td><td>Nenjamundu Nermaiyundu Odu Raja</td><td>Karthik Venugopalan</td><td>Rio Raj, R. J. Vignesh, Shirin Kanchwala</td><td>India</td><td><span>2021-11-17 00:00:00Z</span></td><td><div class=\"dni-plaintext\">2019</div></td><td>6.2/10</td><td>117 min</td><td>Comedies, Dramas, International Movies</td><td>Offered a large sum of money to complete three challenging tasks, two carefree content creators are in for an entertaining — and eye-opening — journey.</td><td>TV-14</td></tr><tr><td>4</td><td>netflix</td><td>4</td><td>movie</td><td>October 1</td><td>Kunle Afolayan</td><td>Sadiq Daba, David Bailie, Kayode Olaiya, Kehinde Bankole, Fabian Adeoye Lojede, Nick Rhys, Kunle Afolayan, Colin David Reese, Ibrahim Shatta, Femi Adebayo, Kanayo O. Kanayo, Lawrence Stubbings, Ademola Adedoyin</td><td>Nigeria</td><td><span>2021-11-17 00:00:00Z</span></td><td><div class=\"dni-plaintext\">2014</div></td><td>6.4/10</td><td>149 min</td><td>Dramas, International Movies, Thrillers</td><td>Against the backdrop of Nigeria&#39;s looming independence from Britain, detective Danladi Waziri races to capture a killer terrorizing local women.</td><td>TV-14</td></tr><tr><td>5</td><td>netflix</td><td>5</td><td>movie</td><td>Phone Swap</td><td>Kunle Afolayan</td><td>Wale Ojo, Nse Ikpe-Etim, Lydia Forson, Joke Silva, Chika Okpala, Ada Ameh, Hafeez Oyetoro, Chika Chukwu</td><td>Nigeria</td><td><span>2021-11-17 00:00:00Z</span></td><td><div class=\"dni-plaintext\">2012</div></td><td>6.0/10</td><td>112 min</td><td>Comedies, International Movies, Romantic Movies</td><td>A fashion designer and an arrogant businessman reluctantly try to help each other after accidentally swapping phones in the airport.</td><td>TV-14</td></tr><tr><td>6</td><td>netflix</td><td>6</td><td>movie</td><td>Prayers for the Stolen</td><td></td><td>Ana Cristina Ord&#243;&#241;ez Gonz&#225;lez, Blanca Itzel P&#233;rez, Camila Gaal, Marya Membre&#241;o, Giselle Barrera S&#225;nchez, Alejandra Camacho, Mayra Batalla, Jos&#233; Estrada, Juli&#225;n Guzm&#225;n Gir&#243;n, Norma Pablo, Memo Villegas, Teresa S&#225;nchez</td><td></td><td><span>2021-11-17 00:00:00Z</span></td><td><div class=\"dni-plaintext\">2021</div></td><td></td><td>111 min</td><td>Dramas, Independent Movies, International Movies</td><td>In a mountainous region of Mexico where poppies abound, three girls take refuge in their friendship to cope with the trials brought on by a drug cartel.</td><td>R</td></tr><tr><td>7</td><td>netflix</td><td>7</td><td>tv-show</td><td>Tear Along the Dotted Line</td><td></td><td>Zerocalcare, Valerio Mastandrea, Paolo Vivio, Chiara Gioncardi, Veronica Puccio</td><td></td><td><span>2021-11-17 00:00:00Z</span></td><td><div class=\"dni-plaintext\">2021</div></td><td></td><td>1 Season</td><td>International TV Shows, TV Comedies</td><td>A cartoonist in Rome with his armadillo-for-a-conscience reflects on his path in life and a would-be love as he and his friends travel outside the city.</td><td>TV-MA</td></tr><tr><td>8</td><td>netflix</td><td>8</td><td>movie</td><td>The Bridge</td><td>Kunle Afolayan</td><td>Chidinma Ekile, Ademola Adedoyin, Kunle Afolayan, Zack Orji, Tina Mba, Ayo Akinwale, Akim Mogaji, Ayo Mogaji, Ken Erics</td><td>Nigeria</td><td><span>2021-11-17 00:00:00Z</span></td><td><div class=\"dni-plaintext\">2017</div></td><td>5.2/10</td><td>119 min</td><td>Dramas, International Movies, Romantic Movies</td><td>A Yoruba prince and a young lady from a prominent Igbo family face tribal prejudice and parental pressure when they secretly wed.</td><td>TV-14</td></tr><tr><td>9</td><td>netflix</td><td>9</td><td>movie</td><td>The CEO</td><td>Kunle Afolayan</td><td>Wale Ojo, Jimmy Jean-Louis, Hilda Dokubo, Nico Panagio, Aur&#233;lie Eliam, Peter King Nzioki Mwania, Fatym Layachi, Kemi Lala Akindoju, Ang&#233;lique Kidjo</td><td>Nigeria</td><td><span>2021-11-17 00:00:00Z</span></td><td><div class=\"dni-plaintext\">2016</div></td><td>6.0/10</td><td>109 min</td><td>Dramas, International Movies, Thrillers</td><td>A group of executives heads to a telecommunications retreat to pick the firm&#39;s new CEO until they find themselves in a contest to win – and stay alive.</td><td>TV-14</td></tr><tr><td>10</td><td>netflix</td><td>10</td><td>movie</td><td>THE FABLE</td><td>Kan Eguchi</td><td>Junichi Okada, Fumino Kimura, Mizuki Yamamoto, Sota Fukushi, Koichi Sato, Yuya Yagira, Osamu Mukai, Ryo Kimura, Kai Inowaki, Shingo Fujimori, Daisuke Miyagawa, Jiro Sato, Ken Mitsuishi, Ken Yasuda</td><td>Japan</td><td><span>2021-11-17 00:00:00Z</span></td><td><div class=\"dni-plaintext\">2019</div></td><td>6.4/10</td><td>124 min</td><td>Action &amp; Adventure, Comedies, International Movies</td><td>An elite gun-for-hire is forced to lay low and not kill anyone for a year, but underworld figures start to threaten his newly calm and quiet life.</td><td>TV-MA</td></tr><tr><td>11</td><td>netflix</td><td>11</td><td>movie</td><td>THE FABLE: The Killer Who Doesn&#39;t Kill</td><td>Kan Eguchi</td><td>Junichi Okada, Fumino Kimura, Shinichi Tsutsumi, Yurina Hirate, Masanobu Ando, Jun Kurose, Masao Yoshii, Manami Hashimoto, Daisuke Miyagawa, Mizuki Yamamoto, Jiro Sato, Kai Inowaki, Ken Yasuda, Koichi Sato</td><td>Japan</td><td><span>2021-11-17 00:00:00Z</span></td><td><div class=\"dni-plaintext\">2021</div></td><td>6.2/10</td><td>131 min</td><td>Action &amp; Adventure, Comedies, International Movies</td><td>While trying to live a normal life, a deadly assassin must somehow protect a young woman and confront a man bent on revenge — without killing anyone!</td><td>TV-MA</td></tr><tr><td>12</td><td>netflix</td><td>12</td><td>movie</td><td>The Figurine (Araromire)</td><td>Kunle Afolayan</td><td>Ramsey Nouah, Omoni Oboli, Kunle Afolayan, Funlola Aofiyebi, Tosin Sido, David J. Oserwe, Kate Adepegba, Muraina Oyelami, Wale Adebayo, Ombo Gogo Ombo</td><td>Nigeria</td><td><span>2021-11-17 00:00:00Z</span></td><td><div class=\"dni-plaintext\">2009</div></td><td>4.7/10</td><td>121 min</td><td>Horror Movies, International Movies, Thrillers</td><td>When a pair of friends discovers a mystical sculpture in an abandoned shrine, good fortune is bestowed upon them – until luck starts running out.</td><td>TV-14</td></tr><tr><td>13</td><td>netflix</td><td>13</td><td>tv-show</td><td>The Queen of Flow</td><td></td><td>Carolina Ram&#237;rez, Carlos Torres, Andr&#233;s Sandoval, Adriana Arango, Mabel Moreno, Luis Alfredo Velasco, Pacho Rueda, Diana Wiswell, Mariana Garz&#243;n, Ki&#241;o, Sebasti&#225;n Silva, Mariana G&#243;mez, Mar&#237;a Jos&#233; Vargas, Guillermo Blanco, Juan Manuel Restrepo, Alejandro Otero, David Ojalvo</td><td>Colombia</td><td><span>2021-11-17 00:00:00Z</span></td><td><div class=\"dni-plaintext\">2021</div></td><td>7.8/10</td><td>2 Seasons</td><td>Crime TV Shows, International TV Shows, Spanish-Language TV Shows</td><td>Seventeen years after being wrongly imprisoned, a talented songwriter seeks justice against the men who caused her downfall and killed her family.</td><td>TV-MA</td></tr><tr><td>14</td><td>netflix</td><td>14</td><td>tv-show</td><td>Tiger King: Murder, Mayhem and Madness</td><td>Eric Goode, Rebecca Chaiklin</td><td></td><td>United States</td><td><span>2021-11-17 00:00:00Z</span></td><td><div class=\"dni-plaintext\">2021</div></td><td></td><td>2 Seasons</td><td>Crime TV Shows, Docuseries</td><td>A zoo owner spirals out of control amid a cast of eccentric characters in this true murder-for-hire story from the underworld of big cat breeding.</td><td>TV-MA</td></tr><tr><td>15</td><td>netflix</td><td>15</td><td>movie</td><td>American Reunion</td><td>Jon Hurwitz, Hayden Schlossberg</td><td>Jason Biggs, Alyson Hannigan, Seann William Scott, Chris Klein, Eugene Levy, Thomas Ian Nicholas, Tara Reid, Mena Suvari, Eddie Kaye Thomas, John Cho, Jennifer Coolidge, Natasha Lyonne, Dania Ramirez, Shannon Elizabeth</td><td>United States</td><td><span>2021-11-16 00:00:00Z</span></td><td><div class=\"dni-plaintext\">2012</div></td><td>6.6/10</td><td>113 min</td><td>Comedies</td><td>The four lustful buddies of American Pie return to East Great Falls for their 10-year high school reunion and a flood of memories.</td><td>R</td></tr><tr><td>16</td><td>netflix</td><td>16</td><td>movie</td><td>Johnny Test&#39;s Ultimate Meatloaf Quest</td><td>Tim Stuby, Jim Miller</td><td>James Arnold Taylor, Trevor Devall, Maryke Hendrikse, Emily Tennant, Lee Tockar, Ian James Corlett, Andrew Francis</td><td></td><td><span>2021-11-16 00:00:00Z</span></td><td><div class=\"dni-plaintext\">2021</div></td><td></td><td>70 min</td><td>Children &amp; Family Movies, Comedies</td><td>Join Johnny and Dukey on an epic interactive quest to find the perfect meatloaf —&#160;and save themselves from eating Dad&#39;s gross &quot;garbage loaf&quot; for dinner.</td><td>TV-Y</td></tr><tr><td>17</td><td>netflix</td><td>17</td><td>movie</td><td>Michael Che: Shame the Devil</td><td>Kristian Mercado</td><td>Michael Che</td><td></td><td><span>2021-11-16 00:00:00Z</span></td><td><div class=\"dni-plaintext\">2021</div></td><td></td><td>59 min</td><td>Stand-Up Comedy</td><td>Michael Che returns to the stage in Oakland and tackles American patriotism, Black leadership, jealous exes, loose bears, mental health and more.</td><td>TV-MA</td></tr><tr><td>18</td><td>netflix</td><td>18</td><td>tv-show</td><td>StoryBots: Laugh, Learn, Sing</td><td></td><td></td><td></td><td><span>2021-11-16 00:00:00Z</span></td><td><div class=\"dni-plaintext\">2021</div></td><td></td><td>1 Season</td><td>Kids&#39; TV</td><td>Learn along with Beep, Boop, Bing, Bang and Bo as they make their way through a musical alphabet, from awesome A&#39;s to mighty M&#39;s and all the way to Z!</td><td>TV-Y</td></tr><tr><td>19</td><td>netflix</td><td>19</td><td>movie</td><td>Kuroko&#39;s Basketball: Last Game</td><td>Shunsuke Tada</td><td>Kensho Ono, Yuki Ono, Hiroshi Kamiya, Junichi Suwabe, Daisuke Ono, Ryohei Kimura, Kenichi Suzumura, Hikaru Midorikawa, Tetsu Inada</td><td></td><td><span>2021-11-15 00:00:00Z</span></td><td><div class=\"dni-plaintext\">2017</div></td><td></td><td>90 min</td><td>Anime Features, International Movies, Sports Movies</td><td>Kuroko reunites with the &quot;Generation of Miracles&quot; when former rivals are humiliated in an exhibition game against a notorious street basketball team.</td><td>TV-14</td></tr><tr><td colspan=\"15\">(25485 more)</td></tr></tbody></table>"
      ]
     },
     "metadata": {},
     "output_type": "display_data"
    }
   ],
   "source": [
    "List<Row> allData = new();\n",
    "\n",
    "foreach(var row in fullFrame.Rows){\n",
    "try{\n",
    "    allData.Add(new Row(row[1].ToString(), row));\n",
    "}\n",
    "catch{\n",
    "\n",
    "}\n",
    "}\n",
    "allData"
   ]
  },
  {
   "cell_type": "markdown",
   "metadata": {},
   "source": [
    "## Get the data into friendly shapes\n",
    "\n",
    "1. Source, Number of Tv Shows, Number of Movies\n",
    "2. Content Added by Year so , Source Number added in a month\n",
    "3. Genres\n",
    "4. Production by country, if I want to do this apply similiar approach as genre, but different filters"
   ]
  },
  {
   "cell_type": "code",
   "execution_count": null,
   "metadata": {
    "dotnet_interactive": {
     "language": "csharp"
    }
   },
   "outputs": [],
   "source": [
    "var sourceAndTotalContentType =allData.GroupBy(_ => _.Source).Select(_ => new {Source = _.Key, Movies = _.Count(_ => _.Type == \"movie\"), TVShows = _.Count(_ => _.Type == \"tv-show\")});"
   ]
  },
  {
   "cell_type": "code",
   "execution_count": null,
   "metadata": {
    "dotnet_interactive": {
     "language": "csharp"
    }
   },
   "outputs": [],
   "source": [
    "var sourceAndMonthAddedCounts = allData.GroupBy(_ => new {Source = _.Source, MonthAdded = $\"{_.DateAdded.Year}/{_.DateAdded.Month}/1\"}).Select(_ => new {Source = _.Key.Source, MonthAdded = _.Key.MonthAdded, Count = _.Count()});"
   ]
  },
  {
   "cell_type": "code",
   "execution_count": null,
   "metadata": {
    "dotnet_interactive": {
     "language": "csharp"
    }
   },
   "outputs": [],
   "source": [
    "public class GenreRow {\n",
    "public string Genre {get; set;}\n",
    "public Row Row {get; set;}\n",
    "\n",
    "public Row ToRow(){\n",
    "\n",
    "    var newRow = (Row)Row.Clone();\n",
    "    newRow.Genre = Genre;\n",
    "    return newRow;\n",
    "    }\n",
    "}"
   ]
  },
  {
   "cell_type": "markdown",
   "metadata": {},
   "source": [
    "# Genres\n",
    "\n",
    "These are a bit of a mess so gonna do some hand tailored swaps and combinations, and not going to make a distinction between movie and tv show.\n",
    "Some example, Sports and Sports Movies will be combined into Sports, "
   ]
  },
  {
   "cell_type": "code",
   "execution_count": null,
   "metadata": {
    "dotnet_interactive": {
     "language": "csharp"
    }
   },
   "outputs": [],
   "source": [
    "public static string Remove(this string source, string target) => source.Replace(target, \"\");"
   ]
  },
  {
   "cell_type": "code",
   "execution_count": null,
   "metadata": {
    "dotnet_interactive": {
     "language": "csharp"
    }
   },
   "outputs": [
    {
     "data": {
      "text/html": [
       "<table><thead><tr><th><i>index</i></th><th>value</th></tr></thead><tbody><tr><td>0</td><td>Drama</td></tr><tr><td>1</td><td>International</td></tr><tr><td>2</td><td>Comedy</td></tr><tr><td>3</td><td>Thriller</td></tr><tr><td>4</td><td>Romance</td></tr><tr><td>5</td><td>Independent</td></tr><tr><td>6</td><td>Action</td></tr><tr><td>7</td><td>Adventure</td></tr><tr><td>8</td><td>Horror</td></tr><tr><td>9</td><td>Crime</td></tr><tr><td>10</td><td>Spanish-Language</td></tr><tr><td>11</td><td>Docuseries</td></tr><tr><td>12</td><td>Kids</td></tr><tr><td>13</td><td>Stand-Up Comedy</td></tr><tr><td>14</td><td>Anime</td></tr><tr><td>15</td><td>Sports</td></tr><tr><td>16</td><td>Reality</td></tr><tr><td>17</td><td>Science</td></tr><tr><td>18</td><td>Nature</td></tr><tr><td>19</td><td>Cult</td></tr><tr><td colspan=\"2\">(72 more)</td></tr></tbody></table>"
      ]
     },
     "metadata": {},
     "output_type": "display_data"
    }
   ],
   "source": [
    "public static string ProcessString(this string source){\n",
    "    return  source.Replace(\" and \", \" & \")\n",
    "    .Remove(\"Movies\")\n",
    "    .Remove(\" TV Shows\")\n",
    "    .Replace(\"TV Shows\", \"TV Show\")\n",
    "    .Replace(\"TV Show\", \"placeholder1\")\n",
    "    .Remove(\"TV\")\n",
    "    .Replace(\"placeholder1\", \"TV Show\")\n",
    "    .Replace(\"Comedies\", \"Comedy\")\n",
    "    .Replace(\"Game Shows\", \"Game Show / Competition\")\n",
    "    .Replace(\"Kids'\", \"Kids\")\n",
    "    .Replace(\"Kids & Family\", \"Kids\")\n",
    "    .Replace(\"Children & Family\", \"Kids\")\n",
    "    .Replace(\"LGBTQ+\", \"LGBTQ\")\n",
    "    .Replace(\"LGBTQ\", \"LGBTQ+\")\n",
    "    .Remove(\"& Culture\")\n",
    "    .Replace(\"Historical\", \"History\")\n",
    "    .Remove(\"Series\")\n",
    "    .Replace(\"ies\", \"y\")\n",
    "    .Replace(\"Science Fiction\", \"Sci-Fi & Fantasy\")\n",
    "    .Remove(\"& Variety\")\n",
    "    .Replace(\"Thrillers\", \"Thriller\")\n",
    "    .Replace(\"Anime Features\", \"Anime\")\n",
    "    .Replace(\"Action-Adventure\", \"Action & Adventure\")\n",
    "    .Replace(\"Classics\", \"Classic\")\n",
    "    .Replace(\"Docusery\", \"Docuseries\")\n",
    "    .Replace(\"Dramas\", \"Drama\")\n",
    "    .Replace(\"/\", \" & \")\n",
    "    .Replace(\"Talk Shows\", \"Talk Show\")\n",
    "    .Replace(\"Romantic\", \"Romance\")\n",
    "    .Remove(\"Videos\")\n",
    "    .Trim();\n",
    "    }\n",
    "//File.WriteAllLines(\"C:\\\\DCUGoogleDrive\\\\DataVisualisationAssignmentData\\\\Genres.csv\", allData.SelectMany(_ => _.Genre.Split(\",\")).Select(_ => _.Trim()).Distinct().Select(x => string.Join(\",\", x)));\n",
    "File.WriteAllLines(\"C:\\\\DCUGoogleDrive\\\\DataVisualisationAssignmentData\\\\Genres.csv\", allData.SelectMany(_ => _.Genre.Split(\",\")).Select(_ => _.ProcessString()).SelectMany(_ => _.Split(\" & \")).Select(_ => _.Trim()).Distinct().Select(x => string.Join(\",\", x)));\n",
    "\n",
    "allData.SelectMany(_ => _.Genre.Split(\",\")).Select(_ => _.ProcessString()).SelectMany(_ => _.Split(\" & \")).Select(_ => _.Trim())\n",
    ".Distinct()"
   ]
  },
  {
   "cell_type": "code",
   "execution_count": null,
   "metadata": {
    "dotnet_interactive": {
     "language": "csharp"
    }
   },
   "outputs": [],
   "source": [
    "var splitBySourceAndGenre = allData.SelectMany(_ => _.Genre.Split(\",\").Select(_ => _.ProcessString()).SelectMany(_ => _.Split(\" & \")).Select(_ => _.Trim())\n",
    ".Distinct().Select(s => \n",
    "    new GenreRow(){\n",
    "        Genre = s, \n",
    "        Row =_\n",
    "    })).Select(_ => _.ToRow())\n",
    "    .GroupBy(_ => new {Source = _.Source, Genre =_.Genre})\n",
    "    .Select(_ => new {Source = _.Key.Source, Genre = _.Key.Genre, Amount = _.Count()});"
   ]
  },
  {
   "cell_type": "code",
   "execution_count": null,
   "metadata": {
    "dotnet_interactive": {
     "language": "csharp"
    }
   },
   "outputs": [],
   "source": [
    "File.WriteAllLines(\"C:\\\\DCUGoogleDrive\\\\DataVisualisationAssignmentData\\\\countries.csv\", allData.Where(_ => !string.IsNullOrEmpty(_.Country)).SelectMany(_ => _.Country.Split(\",\")).Select(_ => _).Select(_ => _.Trim())\n",
    ".Distinct().Select(x => string.Join(\",\", x)));\n",
    "\n",
    "allData.Where(_ => !string.IsNullOrEmpty(_.Country)).SelectMany(_ => _.Country.Split(\",\")).Select(_ => _.Trim())\n",
    ".Distinct();\n",
    "\n",
    "var countryCount = allData.Where(_ => !string.IsNullOrEmpty(_.Country)).SelectMany(_ => _.Country.Split(\",\")).Select(_ => _.Trim()).GroupBy(_ => _).Select(_=> new {Country = _.Key, Amount = _.Count()});\n",
    "//11517 records with null country, do I care? No, just don't split by source"
   ]
  },
  {
   "cell_type": "code",
   "execution_count": null,
   "metadata": {
    "dotnet_interactive": {
     "language": "csharp"
    }
   },
   "outputs": [],
   "source": [
    "using CsvHelper;\n",
    "using System.IO;\n",
    "using System.Globalization;\n",
    "using System.Text.Json;\n",
    "\n",
    "public void WriteToCSV<T>(string filePath, IEnumerable<T> records){\n",
    "    using (var writer = new StreamWriter(filePath))\n",
    "    using (var csv = new CsvWriter(writer, CultureInfo.InvariantCulture))\n",
    "    {\n",
    "        csv.WriteRecords(records);\n",
    "    }\n",
    "}\n",
    "\n",
    "public void WriteToJsonFile<T>(string filePath, T records){\n",
    "    string json = JsonSerializer.Serialize(records);\n",
    "    var stream = new MemoryStream();\n",
    "    using (var writer = new StreamWriter(filePath))\n",
    "        writer.Write(json);\n",
    "    \n",
    "}"
   ]
  },
  {
   "cell_type": "code",
   "execution_count": null,
   "metadata": {
    "dotnet_interactive": {
     "language": "csharp"
    }
   },
   "outputs": [],
   "source": [
    "WriteToJsonFile(\"C:\\\\DCUGoogleDrive\\\\DataVisualisationAssignmentData\\\\sourceAndTotalContentType.json\", sourceAndTotalContentType);\n",
    "WriteToJsonFile(\"C:\\\\DCUGoogleDrive\\\\DataVisualisationAssignmentData\\\\sourceAndMonthAddedCounts.json\", sourceAndMonthAddedCounts);\n",
    "WriteToJsonFile(\"C:\\\\DCUGoogleDrive\\\\DataVisualisationAssignmentData\\\\splitBySourceAndGenre.json\", splitBySourceAndGenre);\n",
    "WriteToJsonFile(\"C:\\\\DCUGoogleDrive\\\\DataVisualisationAssignmentData\\\\countryCount.json\", countryCount);"
   ]
  },
  {
   "cell_type": "code",
   "execution_count": null,
   "metadata": {
    "dotnet_interactive": {
     "language": "csharp"
    }
   },
   "outputs": [],
   "source": [
    "File.WriteAllLines(\"C:\\\\DCUGoogleDrive\\\\DataVisualisationAssignmentData\\\\sourceAndTotalContentType.csv\", sourceAndTotalContentType.Select(x => string.Join(\",\", x)));\n",
    "File.WriteAllLines(\"C:\\\\DCUGoogleDrive\\\\DataVisualisationAssignmentData\\\\sourceAndMonthAddedCounts.csv\", sourceAndMonthAddedCounts.Select(x => string.Join(\",\", x)));\n",
    "File.WriteAllLines(\"C:\\\\DCUGoogleDrive\\\\DataVisualisationAssignmentData\\\\splitBySourceAndGenre.csv\", splitBySourceAndGenre.Select(x => string.Join(\",\", x)));\n",
    "File.WriteAllLines(\"C:\\\\DCUGoogleDrive\\\\DataVisualisationAssignmentData\\\\countryCount.csv\", countryCount.Select(x => string.Join(\",\", x)));"
   ]
  },
  {
   "cell_type": "code",
   "execution_count": null,
   "metadata": {
    "dotnet_interactive": {
     "language": "csharp"
    }
   },
   "outputs": [
    {
     "data": {
      "text/html": [
       "<table><thead><tr><th><i>index</i></th><th>Source</th><th>Genre</th><th>Amount</th></tr></thead><tbody><tr><td>0</td><td>netflix</td><td>Drama</td><td><div class=\"dni-plaintext\">2219</div></td></tr><tr><td>1</td><td>netflix</td><td>International</td><td><div class=\"dni-plaintext\">3025</div></td></tr><tr><td>2</td><td>netflix</td><td>Comedy</td><td><div class=\"dni-plaintext\">1575</div></td></tr><tr><td>3</td><td>netflix</td><td>Thriller</td><td><div class=\"dni-plaintext\">408</div></td></tr><tr><td>4</td><td>netflix</td><td>Romance</td><td><div class=\"dni-plaintext\">699</div></td></tr><tr><td>5</td><td>netflix</td><td>Independent</td><td><div class=\"dni-plaintext\">423</div></td></tr><tr><td>6</td><td>netflix</td><td>Action</td><td><div class=\"dni-plaintext\">663</div></td></tr><tr><td>7</td><td>netflix</td><td>Adventure</td><td><div class=\"dni-plaintext\">663</div></td></tr><tr><td>8</td><td>netflix</td><td>Horror</td><td><div class=\"dni-plaintext\">262</div></td></tr><tr><td>9</td><td>netflix</td><td>Crime</td><td><div class=\"dni-plaintext\">392</div></td></tr><tr><td>10</td><td>netflix</td><td>Spanish-Language</td><td><div class=\"dni-plaintext\">139</div></td></tr><tr><td>11</td><td>netflix</td><td>Docuseries</td><td><div class=\"dni-plaintext\">277</div></td></tr><tr><td>12</td><td>netflix</td><td>Kids</td><td><div class=\"dni-plaintext\">772</div></td></tr><tr><td>13</td><td>netflix</td><td>Stand-Up Comedy</td><td><div class=\"dni-plaintext\">380</div></td></tr><tr><td>14</td><td>netflix</td><td>Anime</td><td><div class=\"dni-plaintext\">222</div></td></tr><tr><td>15</td><td>netflix</td><td>Sports</td><td><div class=\"dni-plaintext\">114</div></td></tr><tr><td>16</td><td>netflix</td><td>Reality</td><td><div class=\"dni-plaintext\">193</div></td></tr><tr><td>17</td><td>netflix</td><td>Science</td><td><div class=\"dni-plaintext\">53</div></td></tr><tr><td>18</td><td>netflix</td><td>Nature</td><td><div class=\"dni-plaintext\">53</div></td></tr><tr><td>19</td><td>netflix</td><td>Cult</td><td><div class=\"dni-plaintext\">46</div></td></tr><tr><td colspan=\"4\">(160 more)</td></tr></tbody></table>"
      ]
     },
     "metadata": {},
     "output_type": "display_data"
    }
   ],
   "source": [
    "splitBySourceAndGenre"
   ]
  },
  {
   "cell_type": "code",
   "execution_count": null,
   "metadata": {
    "dotnet_interactive": {
     "language": "csharp"
    }
   },
   "outputs": [
    {
     "data": {
      "text/html": [
       "<div class=\"dni-plaintext\">41.125269554989217800431287980</div>"
      ]
     },
     "metadata": {},
     "output_type": "display_data"
    }
   ],
   "source": [
    "((decimal)allData.Count(_ => _.Source ==\"amazon-prime-video\")/ allData.Count()) * 100"
   ]
  },
  {
   "cell_type": "markdown",
   "metadata": {},
   "source": [
    "## Everything below here was exploratory and no longer works!"
   ]
  },
  {
   "cell_type": "markdown",
   "metadata": {
    "dotnet_interactive": {
     "language": "csharp"
    }
   },
   "source": [
    "## Lets get Charting!"
   ]
  },
  {
   "cell_type": "code",
   "execution_count": null,
   "metadata": {
    "dotnet_interactive": {
     "language": "csharp"
    }
   },
   "outputs": [],
   "source": [
    "public Color NetflixRed = Color.fromHex(\"#E50914\");\n",
    "public Color NetflixBlack = Color.fromHex(\"#000000\");\n",
    "public Color HuluGreen = Color.fromHex(\"#1ce783\");\n",
    "public Color HuluBlack = Color.fromHex(\"#040405\");\n",
    "public Color AmazonBlue = Color.fromHex(\"#05A0D1\");\n",
    "public Color AmazonDarkBlue = Color.fromHex(\"#232F3E\");\n",
    "public Color AmazonOrange = Color.fromHex(\"#FF9900\");\n",
    "public Color DisneyBlue = Color.fromHex(\"#13245E\");"
   ]
  },
  {
   "cell_type": "code",
   "execution_count": null,
   "metadata": {
    "dotnet_interactive": {
     "language": "csharp"
    }
   },
   "outputs": [
    {
     "data": {
      "text/html": [
       "<div id=\"a2d9c6eb-1d72-433c-948e-188559004d4b\" style=\"width: 600px; height: 600px;\"><!-- Plotly chart will be drawn inside this DIV --></div>\r\n",
       "<script type=\"text/javascript\">\r\n",
       "\n",
       "            var renderPlotly_a2d9c6eb1d72433c948e188559004d4b = function() {\n",
       "            var fsharpPlotlyRequire = requirejs.config({context:'fsharp-plotly',paths:{plotly:'https://cdn.plot.ly/plotly-latest.min'}}) || require;\n",
       "            fsharpPlotlyRequire(['plotly'], function(Plotly) {\r\n",
       "\n",
       "            var data = [{\"type\":\"bar\",\"x\":[\"Movie\"],\"y\":[3931],\"marker\":{\"color\":\"rgba(229, 9, 20, 1.0)\"},\"showlegend\":false},{\"type\":\"bar\",\"x\":[\"TV Show\"],\"y\":[2123],\"marker\":{\"color\":\"rgba(0, 0, 0, 1.0)\"},\"showlegend\":false}];\n",
       "            var layout = {\"title\":{\"text\":\"Number of Movies and TV Shows on Netflix Streaming platform\"}};\n",
       "            var config = {};\n",
       "            Plotly.newPlot('a2d9c6eb-1d72-433c-948e-188559004d4b', data, layout, config);\r\n",
       "});\n",
       "            };\n",
       "            if ((typeof(requirejs) !==  typeof(Function)) || (typeof(requirejs.config) !== typeof(Function))) {\n",
       "                var script = document.createElement(\"script\");\n",
       "                script.setAttribute(\"src\", \"https://cdnjs.cloudflare.com/ajax/libs/require.js/2.3.6/require.min.js\");\n",
       "                script.onload = function(){\n",
       "                    renderPlotly_a2d9c6eb1d72433c948e188559004d4b();\n",
       "                };\n",
       "                document.getElementsByTagName(\"head\")[0].appendChild(script);\n",
       "            }\n",
       "            else {\n",
       "                renderPlotly_a2d9c6eb1d72433c948e188559004d4b();\n",
       "            }\r\n",
       "</script>\r\n"
      ]
     },
     "metadata": {},
     "output_type": "display_data"
    }
   ],
   "source": [
    "var names = new string[]{\"Movie\", \"Tv Show\"};\n",
    "var sfValues = new  [] {netflix.Count(_ => _.Type == \"Movie\"), netflix.Count(_ => _.Type ==\"TV Show\")};\n",
    "\n",
    "var chart1 = Chart.Combine(new []\n",
    "    {\n",
    "Chart2D.Chart.Column<string, int, string>(new []{\"Movie\"}, new  [] {netflix.Count(_ => _.Type == \"movie\")}, Color: NetflixRed, ShowLegend: false),\n",
    "Chart2D.Chart.Column<string, int, string>(new []{\"TV Show\"}, new  [] {netflix.Count(_ => _.Type == \"tv-show\")}, Color: NetflixBlack, ShowLegend: false),\n",
    "    });\n",
    "    chart1.WithTitle(\"Number of Movies and TV Shows on Netflix Streaming platform\")"
   ]
  },
  {
   "cell_type": "markdown",
   "metadata": {},
   "source": [
    "## Things to do with this\n",
    "\n",
    "Colour code it, black and red"
   ]
  },
  {
   "cell_type": "code",
   "execution_count": null,
   "metadata": {
    "dotnet_interactive": {
     "language": "csharp"
    }
   },
   "outputs": [],
   "source": [
    "public static string DateTimeToYearMonthString(DateTime date){\n",
    "return $\"{date.Year}-{date.Month}\";\n",
    "}"
   ]
  },
  {
   "cell_type": "code",
   "execution_count": null,
   "metadata": {
    "dotnet_interactive": {
     "language": "csharp"
    }
   },
   "outputs": [],
   "source": [
    "var movieList = netflix.Where(_ => _.Type == \"movie\");\n",
    "var tvShowList = netflix.Where(_ => _.Type == \"tv-show\");\n",
    "var moviesGroupedByMonthAdded = movieList.OrderBy(_ => _.DateAdded).Select(_ => new { Date = _.DateAdded, Name = DateTimeToYearMonthString(DateTime.Parse(_.DateAdded.ToString()))}).GroupBy(_ => _.Name);\n",
    "\n",
    "var tvShowsGroupedByMonthAdded = tvShowList.OrderBy(_ => _.DateAdded).Select(_ => new { Date = _.DateAdded, Name = DateTimeToYearMonthString(DateTime.Parse(_.DateAdded.ToString()))}).GroupBy(_ => _.Name);\n"
   ]
  },
  {
   "cell_type": "code",
   "execution_count": null,
   "metadata": {
    "dotnet_interactive": {
     "language": "csharp"
    }
   },
   "outputs": [],
   "source": [
    "var moviesCountedByMonth = moviesGroupedByMonthAdded.Select(_ => new {Name = _.Key, Count = _.Count()});\n",
    "var tvShowsCountedByMonth = tvShowsGroupedByMonthAdded.Select(_ => new {Name = _.Key, Count = _.Count()});"
   ]
  },
  {
   "cell_type": "code",
   "execution_count": null,
   "metadata": {
    "dotnet_interactive": {
     "language": "csharp"
    }
   },
   "outputs": [
    {
     "data": {
      "text/html": [
       "<div id=\"add30c82-0823-466b-877e-52652dd0bb57\" style=\"width: 600px; height: 600px;\"><!-- Plotly chart will be drawn inside this DIV --></div>\r\n",
       "<script type=\"text/javascript\">\r\n",
       "\n",
       "            var renderPlotly_add30c820823466b877e52652dd0bb57 = function() {\n",
       "            var fsharpPlotlyRequire = requirejs.config({context:'fsharp-plotly',paths:{plotly:'https://cdn.plot.ly/plotly-latest.min'}}) || require;\n",
       "            fsharpPlotlyRequire(['plotly'], function(Plotly) {\r\n",
       "\n",
       "            var data = [{\"type\":\"scatter\",\"mode\":\"lines\",\"x\":[\"2008-1\",\"2009-5\",\"2009-11\",\"2011-5\",\"2011-10\",\"2012-2\",\"2013-11\",\"2013-12\",\"2014-1\",\"2014-4\",\"2014-7\",\"2014-8\",\"2014-9\",\"2014-10\",\"2014-11\",\"2014-12\",\"2015-1\",\"2015-2\",\"2015-3\",\"2015-4\",\"2015-5\",\"2015-6\",\"2015-7\",\"2015-8\",\"2015-9\",\"2015-10\",\"2015-11\",\"2015-12\",\"2016-1\",\"2016-2\",\"2016-3\",\"2016-4\",\"2016-5\",\"2016-6\",\"2016-7\",\"2016-8\",\"2016-9\",\"2016-10\",\"2016-11\",\"2016-12\",\"2017-1\",\"2017-2\",\"2017-3\",\"2017-4\",\"2017-5\",\"2017-6\",\"2017-7\",\"2017-8\",\"2017-9\",\"2017-10\",\"2017-11\",\"2017-12\",\"2018-1\",\"2018-2\",\"2018-3\",\"2018-4\",\"2018-5\",\"2018-6\",\"2018-7\",\"2018-8\",\"2018-9\",\"2018-10\",\"2018-11\",\"2018-12\",\"2019-1\",\"2019-2\",\"2019-3\",\"2019-4\",\"2019-5\",\"2019-6\",\"2019-7\",\"2019-8\",\"2019-9\",\"2019-10\",\"2019-11\",\"2019-12\",\"2020-1\",\"2020-2\",\"2020-3\",\"2020-4\",\"2020-5\",\"2020-6\",\"2020-7\",\"2020-8\",\"2020-9\",\"2020-10\",\"2020-11\",\"2020-12\",\"2021-1\",\"2021-2\",\"2021-3\",\"2021-4\",\"2021-5\",\"2021-6\",\"2021-7\",\"2021-8\",\"2021-9\",\"2021-10\",\"2021-11\"],\"y\":[1,1,1,1,11,1,1,2,2,1,1,1,1,3,1,2,1,2,2,1,3,4,3,1,3,7,1,5,4,3,5,7,2,4,7,14,17,17,16,29,28,28,21,36,36,34,22,34,43,31,22,31,29,22,46,38,43,27,40,50,27,80,69,82,55,57,69,49,49,48,30,47,38,53,74,79,56,63,77,100,92,97,94,57,102,95,81,91,67,64,73,131,85,120,149,107,121,164,89],\"line\":{\"color\":\"rgba(229, 9, 20, 1.0)\"},\"marker\":{\"color\":\"#000000\"},\"name\":\"Movies\"},{\"type\":\"scatter\",\"mode\":\"lines\",\"x\":[\"2013-8\",\"2013-9\",\"2014-2\",\"2014-11\",\"2015-3\",\"2015-6\",\"2015-7\",\"2015-10\",\"2015-11\",\"2015-12\",\"2016-1\",\"2016-2\",\"2016-3\",\"2016-4\",\"2016-6\",\"2016-7\",\"2016-8\",\"2016-9\",\"2016-10\",\"2016-11\",\"2016-12\",\"2017-1\",\"2017-2\",\"2017-3\",\"2017-4\",\"2017-5\",\"2017-6\",\"2017-7\",\"2017-8\",\"2017-9\",\"2017-10\",\"2017-11\",\"2017-12\",\"2018-1\",\"2018-2\",\"2018-3\",\"2018-4\",\"2018-5\",\"2018-6\",\"2018-7\",\"2018-8\",\"2018-9\",\"2018-10\",\"2018-11\",\"2018-12\",\"2019-1\",\"2019-2\",\"2019-3\",\"2019-4\",\"2019-5\",\"2019-6\",\"2019-7\",\"2019-8\",\"2019-9\",\"2019-10\",\"2019-11\",\"2019-12\",\"2020-1\",\"2020-2\",\"2020-3\",\"2020-4\",\"2020-5\",\"2020-6\",\"2020-7\",\"2020-8\",\"2020-9\",\"2020-10\",\"2020-11\",\"2020-12\",\"2021-1\",\"2021-2\",\"2021-3\",\"2021-4\",\"2021-5\",\"2021-6\",\"2021-7\",\"2021-8\",\"2021-9\",\"2021-10\",\"2021-11\"],\"y\":[1,1,1,2,1,2,2,2,1,2,1,4,2,3,4,4,7,8,7,8,25,2,7,12,11,5,21,23,17,22,15,24,20,15,11,19,13,16,15,20,22,29,33,29,39,28,24,41,35,41,42,35,33,27,43,53,40,51,38,38,44,42,39,38,46,49,48,51,64,35,44,37,50,36,81,86,58,75,73,30],\"line\":{\"color\":\"rgba(0, 0, 0, 1.0)\"},\"marker\":{\"color\":\"rgba(0, 0, 0, 1.0)\"},\"name\":\"TV Shows\"}];\n",
       "            var layout = {\"showlegend\":false};\n",
       "            var config = {};\n",
       "            Plotly.newPlot('add30c82-0823-466b-877e-52652dd0bb57', data, layout, config);\r\n",
       "});\n",
       "            };\n",
       "            if ((typeof(requirejs) !==  typeof(Function)) || (typeof(requirejs.config) !== typeof(Function))) {\n",
       "                var script = document.createElement(\"script\");\n",
       "                script.setAttribute(\"src\", \"https://cdnjs.cloudflare.com/ajax/libs/require.js/2.3.6/require.min.js\");\n",
       "                script.onload = function(){\n",
       "                    renderPlotly_add30c820823466b877e52652dd0bb57();\n",
       "                };\n",
       "                document.getElementsByTagName(\"head\")[0].appendChild(script);\n",
       "            }\n",
       "            else {\n",
       "                renderPlotly_add30c820823466b877e52652dd0bb57();\n",
       "            }\r\n",
       "</script>\r\n"
      ]
     },
     "metadata": {},
     "output_type": "display_data"
    }
   ],
   "source": [
    "var adklfjn = new Plotly.NET.TraceObjects.Marker();\n",
    "adklfjn.SetValue(\"color\", \"#000000\");\n",
    "var chart2 = Chart.Combine(new []{\n",
    "    Chart2D.Chart.Line<string, int, string>(moviesCountedByMonth.Select(_ => _.Name), moviesCountedByMonth.Select(_ => _.Count), Color: NetflixRed).WithTraceName(\"Movies\").WithMarker(adklfjn),\n",
    "    Chart2D.Chart.Line<string, int, string>(tvShowsCountedByMonth.Select(_ => _.Name), tvShowsCountedByMonth.Select(_ => _.Count), Color: NetflixBlack).WithTraceName(\"TV Shows\")\n",
    "    });\n",
    "    chart2.WithLegend(false)"
   ]
  },
  {
   "cell_type": "code",
   "execution_count": null,
   "metadata": {
    "dotnet_interactive": {
     "language": "csharp"
    }
   },
   "outputs": [],
   "source": []
  },
  {
   "cell_type": "markdown",
   "metadata": {},
   "source": [
    "## Changes for this graph\n",
    "Does this indicate a change in strategy of onboarding? From my memory this lines up with when Disney got serious, or do we just have bad data?\n",
    "\n",
    "But even with this blips, it can be seen that netflix is rapidly increasing the amount of content on its platform. While it may not seem like the best choice for television consumers, tv shows typically run much longer than movies, so there is likely many more hours of tv shows to watch.\n",
    "The rapid decline in 2020 is likely possibly due to the start of covid, the uncertainty may have postponed releases. \n",
    "\n",
    "##Things to do with this graph\n",
    "Zoom in, don't care about the left really, the data seems to be missing, or was the onboarding really that slow?\n",
    "Display the ticks of every 3rd month instead of every second year\n",
    "Fix the legend or think of how to label the data directly\n"
   ]
  },
  {
   "cell_type": "markdown",
   "metadata": {},
   "source": []
  },
  {
   "cell_type": "markdown",
   "metadata": {},
   "source": []
  },
  {
   "cell_type": "code",
   "execution_count": null,
   "metadata": {
    "dotnet_interactive": {
     "language": "csharp"
    }
   },
   "outputs": [],
   "source": [
    "public static Title ToTitle(this string title){\n",
    "    var a = new Title(); \n",
    "    a.SetValue(\"Title\", title);\n",
    "    return a; \n",
    "}"
   ]
  },
  {
   "cell_type": "code",
   "execution_count": null,
   "metadata": {
    "dotnet_interactive": {
     "language": "csharp"
    }
   },
   "outputs": [],
   "source": []
  },
  {
   "cell_type": "code",
   "execution_count": null,
   "metadata": {
    "dotnet_interactive": {
     "language": "csharp"
    }
   },
   "outputs": [
    {
     "data": {
      "text/html": [
       "<div id=\"e0287866-3f13-4cbe-aae2-c7019000a440\" style=\"width: 600px; height: 600px;\"><!-- Plotly chart will be drawn inside this DIV --></div>\r\n",
       "<script type=\"text/javascript\">\r\n",
       "\n",
       "            var renderPlotly_e02878663f134cbeaae2c7019000a440 = function() {\n",
       "            var fsharpPlotlyRequire = requirejs.config({context:'fsharp-plotly',paths:{plotly:'https://cdn.plot.ly/plotly-latest.min'}}) || require;\n",
       "            fsharpPlotlyRequire(['plotly'], function(Plotly) {\r\n",
       "\n",
       "            var data = [{\"type\":\"scatter\",\"mode\":\"markers\",\"x\":[3931],\"y\":[2123],\"marker\":{}},{\"type\":\"scatter\",\"mode\":\"markers\",\"x\":[8482],\"y\":[2007],\"marker\":{}},{\"type\":\"scatter\",\"mode\":\"markers\",\"x\":[1056],\"y\":[398],\"marker\":{}},{\"type\":\"scatter\",\"mode\":\"markers\",\"x\":[0],\"y\":[0],\"marker\":{}},{\"type\":\"scatter\",\"mode\":\"markers\",\"x\":[555],\"y\":[133],\"marker\":{}}];\n",
       "            var layout = {};\n",
       "            var config = {};\n",
       "            Plotly.newPlot('e0287866-3f13-4cbe-aae2-c7019000a440', data, layout, config);\r\n",
       "});\n",
       "            };\n",
       "            if ((typeof(requirejs) !==  typeof(Function)) || (typeof(requirejs.config) !== typeof(Function))) {\n",
       "                var script = document.createElement(\"script\");\n",
       "                script.setAttribute(\"src\", \"https://cdnjs.cloudflare.com/ajax/libs/require.js/2.3.6/require.min.js\");\n",
       "                script.onload = function(){\n",
       "                    renderPlotly_e02878663f134cbeaae2c7019000a440();\n",
       "                };\n",
       "                document.getElementsByTagName(\"head\")[0].appendChild(script);\n",
       "            }\n",
       "            else {\n",
       "                renderPlotly_e02878663f134cbeaae2c7019000a440();\n",
       "            }\r\n",
       "</script>\r\n"
      ]
     },
     "metadata": {},
     "output_type": "display_data"
    }
   ],
   "source": [
    "var tvMovieTendency = Chart.Combine(new []{\n",
    "Chart2D.Chart.Point<int, int, string>(x:new []{netflix.Count(_ => _.Type == \"movie\")}, y:new []{netflix.Count(_ => _.Type == \"tv-show\")}),\n",
    "Chart2D.Chart.Point<int, int, string>(x:new []{amazon.Count(_ => _.Type == \"movie\")}, y:new []{amazon.Count(_ => _.Type == \"tv-show\")}),\n",
    "Chart2D.Chart.Point<int, int, string>(x:new []{disney.Count(_ => _.Type == \"movie\")}, y:new []{disney.Count(_ => _.Type == \"tv-show\")}),\n",
    "Chart2D.Chart.Point<int, int, string>(x:new []{hulu.Count(_ => _.Type == \"movie\")}, y:new []{hulu.Count(_ => _.Type == \"tv-show\")}),\n",
    "Chart2D.Chart.Point<int, int, string>(x:new []{hbo.Count(_ => _.Type == \"movie\")}, y:new []{hbo.Count(_ => _.Type == \"tv-show\")}),\n",
    "});\n",
    "\n",
    "tvMovieTendency\n"
   ]
  }
 ],
 "metadata": {
  "kernelspec": {
   "display_name": ".NET (C#)",
   "language": "C#",
   "name": ".net-csharp"
  },
  "language_info": {
   "name": "C#"
  }
 },
 "nbformat": 4,
 "nbformat_minor": 2
}
